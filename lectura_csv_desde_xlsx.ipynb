{
 "cells": [
  {
   "cell_type": "code",
   "execution_count": 1,
   "metadata": {},
   "outputs": [
    {
     "name": "stdout",
     "output_type": "stream",
     "text": [
      "   Aniomes Sociedad Sector NOM_SECTOR Centro Cebe_centro  \\\n",
      "0   202404      DCL  [#]03    Renault   0201  H0201SDL03   \n",
      "1   202404      DCL  [#]03    Renault   0201  H0201SDL03   \n",
      "2   202404      DCL  [#]03    Renault   0201  H0201SDL03   \n",
      "3   202404      DCL  [#]03    Renault   0201  H0201SDL03   \n",
      "4   202404      DCL  [#]03    Renault   0201  H0201SDL03   \n",
      "\n",
      "       cebe_centro_desc Orig_Alter          material  \\\n",
      "0  DSA Phuel BO DP.Loca          O  [#]0000000195-OP   \n",
      "1  DSA Phuel BO DP.Loca          O     [#]0000000210   \n",
      "2  DSA Phuel BO DP.Loca          O     [#]0000000229   \n",
      "3  DSA Phuel BO DP.Loca          O  [#]0000000229CPZ   \n",
      "4  DSA Phuel BO DP.Loca          O     [#]0000000232   \n",
      "\n",
      "                          NOMBRE_REPTO  ...  dias fact_impl_imp  \\\n",
      "0   PIRELLI P7-CINT TUB 205/55 R17 91V  ...   NaN           NaN   \n",
      "1  CONTINENTAL CONTACT 5 195/65R15 95H  ...   NaN           NaN   \n",
      "2            215/45 R 18 TOYO PXTS 93Y  ...   NaN           NaN   \n",
      "3  CONTINENTAL CONTACT 5 205/55R17 95V  ...   NaN           NaN   \n",
      "4  CONTINENTAL CONTACT 5 195/55R16 91H  ...   NaN           NaN   \n",
      "\n",
      "   fact_impl_retail  fact_impl  obso_inch_sv  obso_inch_ss             R3  \\\n",
      "0               NaN        NaN      752507.0             0  0000000195-OP   \n",
      "1               NaN        NaN      239260.0             0     0000000210   \n",
      "2               NaN        NaN      204262.0             0     0000000229   \n",
      "3               NaN        NaN           0.0             0  0000000229CPZ   \n",
      "4               NaN        NaN           0.0             0     0000000232   \n",
      "\n",
      "   Último Eslabón  Existencia II  obso_inchcape II  \n",
      "0   0000000195-OP   5.492752e+05     549275.182482  \n",
      "1      0000000210   1.746423e+05     174642.335766  \n",
      "2      0000000229   1.490964e+05     149096.350365  \n",
      "3   0000000229CPZ   2.345949e+06          0.000000  \n",
      "4      0000000232   2.643197e+05          0.000000  \n",
      "\n",
      "[5 rows x 113 columns]\n"
     ]
    }
   ],
   "source": [
    "import pandas as pd\n",
    "\n",
    "def excel_to_dataframe(xl_name: str, sh_name: str) -> pd.DataFrame:\n",
    "    \"\"\"\n",
    "    Convert an Excel sheet to a pandas DataFrame.\n",
    "\n",
    "    :param xl_name: The path to the Excel file.\n",
    "    :param sh_name: The name of the sheet to be read.\n",
    "    :return: A pandas DataFrame containing the data from the specified Excel sheet.\n",
    "    \"\"\"\n",
    "    # Load the Excel file\n",
    "    xls = pd.ExcelFile(xl_name)\n",
    "    \n",
    "    # Parse the specified sheet into a DataFrame\n",
    "    df = xls.parse(sh_name)\n",
    "    \n",
    "    return df\n",
    "\n",
    "# Example usage:\n",
    "\n",
    "ruta_obs = \"C:/Users/lravlic/Inchcape/Planificación y Compras Chile - Documentos/Planificación y Compras Maestros/2024/2024-05/new_obso_repuestos_cl_inchcape_202404.xlsx\"\n",
    "df = excel_to_dataframe(ruta_obs, 'Base Obs Cierre Abr-24')\n",
    "print(df.head())\n"
   ]
  },
  {
   "cell_type": "code",
   "execution_count": 3,
   "metadata": {},
   "outputs": [
    {
     "data": {
      "text/plain": [
       "(528508, 113)"
      ]
     },
     "execution_count": 3,
     "metadata": {},
     "output_type": "execute_result"
    }
   ],
   "source": [
    "df.shape"
   ]
  },
  {
   "cell_type": "code",
   "execution_count": null,
   "metadata": {},
   "outputs": [],
   "source": []
  }
 ],
 "metadata": {
  "kernelspec": {
   "display_name": "Python 3",
   "language": "python",
   "name": "python3"
  },
  "language_info": {
   "codemirror_mode": {
    "name": "ipython",
    "version": 3
   },
   "file_extension": ".py",
   "mimetype": "text/x-python",
   "name": "python",
   "nbconvert_exporter": "python",
   "pygments_lexer": "ipython3",
   "version": "3.12.0"
  }
 },
 "nbformat": 4,
 "nbformat_minor": 2
}
