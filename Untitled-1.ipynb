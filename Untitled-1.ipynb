{
 "cells": [
  {
   "cell_type": "code",
   "execution_count": 2,
   "metadata": {},
   "outputs": [
    {
     "name": "stdout",
     "output_type": "stream",
     "text": [
      "Folder \"C:/Users/lravlic/Codigos/RSH_Indicadores/proy_gonzalo\" has been zipped successfully as \"C:/Users/lravlic/Codigos.zip\"\n"
     ]
    }
   ],
   "source": [
    "import shutil\n",
    "import os\n",
    "\n",
    "# Define the folder to be zipped and the output file name\n",
    "folder_to_zip = \"C:/Users/lravlic/Codigos/RSH_Indicadores/proy_gonzalo\"  # replace with your folder path\n",
    "output_filename = \"C:/Users/lravlic/Codigos\" # replace with desired output path and file name\n",
    "\n",
    "# Ensure the output directory exists\n",
    "os.makedirs(os.path.dirname(output_filename), exist_ok=True)\n",
    "\n",
    "# Create the zip file\n",
    "shutil.make_archive(output_filename, 'zip', folder_to_zip)\n",
    "\n",
    "print(f'Folder \"{folder_to_zip}\" has been zipped successfully as \"{output_filename}.zip\"')\n"
   ]
  }
 ],
 "metadata": {
  "kernelspec": {
   "display_name": "Python 3",
   "language": "python",
   "name": "python3"
  },
  "language_info": {
   "codemirror_mode": {
    "name": "ipython",
    "version": 3
   },
   "file_extension": ".py",
   "mimetype": "text/x-python",
   "name": "python",
   "nbconvert_exporter": "python",
   "pygments_lexer": "ipython3",
   "version": "3.12.0"
  }
 },
 "nbformat": 4,
 "nbformat_minor": 2
}
